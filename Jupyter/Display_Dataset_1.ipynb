{
 "cells": [
  {
   "cell_type": "code",
   "execution_count": 1,
   "id": "0e439230",
   "metadata": {
    "scrolled": false
   },
   "outputs": [],
   "source": [
    "import sys\n",
    "sys.path.append(\"../Python\")\n",
    "import pandas as pd\n",
    "import numpy as np\n",
    "import matplotlib.pyplot as plt\n",
    "import PyQt5\n",
    "import math\n",
    "from MyDescribe import MyDescribe\n",
    "from MyHistogram import MyHistogram\n"
   ]
  },
  {
   "cell_type": "code",
   "execution_count": 2,
   "id": "3c5920fc",
   "metadata": {
    "scrolled": false
   },
   "outputs": [],
   "source": [
    "# Read dataset\n",
    "gaugeColumnList = {}\n",
    "gaugeColumnList[\"Mean\"] = [\"Mean Radius\",\"Mean Texture\",\"Mean Perimeter\",\"Mean Area\",\"Mean Smoothness\",\"Mean Compactness\",\"Mean Concavity\",\"Mean Concave points\",\"Mean Symmetry\",\"Mean Fractal dimension\"]\n",
    "gaugeColumnList[\"SE\"] = [\"Radius SE\",\"Texture SE\",\"Perimeter SE\",\"Area SE\",\"Smoothness SE\",\"Compactness SE\",\"Concavity SE\",\"Concave points SE\",\"Symmetry SE\",\"Fractal dimension SE\"]\n",
    "gaugeColumnList[\"Worst\"] = [\"Worst Radius\",\"Worst Texture\",\"Worst Perimeter\",\"Worst Area\",\"Worst Smoothness\",\"Worst Compactness\",\"Worst Concavity\",\"Worst Concave points\",\"Worst Symmetry\",\"Worst Fractal dimension\"]\n",
    "columnNames = []\n",
    "columnNames.extend([\"ID number\",\"Diagnosis\"])\n",
    "columnNames.extend(gaugeColumnList[\"Mean\"])\n",
    "columnNames.extend(gaugeColumnList[\"SE\"])\n",
    "columnNames.extend(gaugeColumnList[\"Worst\"])\n",
    "dataset_training = pd.read_csv(\"../Data/data.csv\", header=None, names=columnNames)\n",
    "# print(dataset_training.T)\n"
   ]
  },
  {
   "cell_type": "code",
   "execution_count": 3,
   "id": "4981ca75",
   "metadata": {},
   "outputs": [],
   "source": [
    "colorList = [\"red\", \"yellow\"]\n",
    "colors = {}\n",
    "colors[\"M\"] = colorList[0]\n",
    "colors[\"B\"] = colorList[1]\n",
    "dataset_training[\"Color\"] = dataset_training.apply(lambda row: colors[row.Diagnosis], axis=1)"
   ]
  },
  {
   "cell_type": "code",
   "execution_count": 4,
   "id": "2eb8d385",
   "metadata": {
    "scrolled": true
   },
   "outputs": [
    {
     "name": "stdout",
     "output_type": "stream",
     "text": [
      "Data type: Mean\n",
      "                        Count        Mean         Std     Median        Min  \\\n",
      "Mean Radius               569   14.127292    3.520951   13.37000    6.98100   \n",
      "Mean Texture              569   19.289649    4.297255   18.84000    9.71000   \n",
      "Mean Perimeter            569   91.969033   24.277619   86.24000   43.79000   \n",
      "Mean Area                 569  654.889104  351.604754  551.10000  143.50000   \n",
      "Mean Smoothness           569    0.096360    0.014052    0.09587    0.05263   \n",
      "Mean Compactness          569    0.104341    0.052766    0.09263    0.01938   \n",
      "Mean Concavity            569    0.088799    0.079650    0.06154    0.00000   \n",
      "Mean Concave points       569    0.048919    0.038769    0.03350    0.00000   \n",
      "Mean Symmetry             569    0.181162    0.027390    0.17920    0.10600   \n",
      "Mean Fractal dimension    569    0.062798    0.007054    0.06154    0.04996   \n",
      "\n",
      "                               1%        25%        50%        75%  \\\n",
      "Mean Radius               8.21900   11.70000   13.37000   15.78000   \n",
      "Mean Texture             10.91000   16.17000   18.84000   21.80000   \n",
      "Mean Perimeter           53.27000   75.17000   86.24000  104.10000   \n",
      "Mean Area               203.90000  420.30000  551.10000  782.70000   \n",
      "Mean Smoothness           0.06828    0.08637    0.09587    0.10530   \n",
      "Mean Compactness          0.03212    0.06492    0.09263    0.13040   \n",
      "Mean Concavity            0.00000    0.02956    0.06154    0.13070   \n",
      "Mean Concave points       0.00000    0.02031    0.03350    0.07400   \n",
      "Mean Symmetry             0.12740    0.16190    0.17920    0.19570   \n",
      "Mean Fractal dimension    0.05096    0.05770    0.06154    0.06612   \n",
      "\n",
      "                               99%         Max  \n",
      "Mean Radius               24.63000    28.11000  \n",
      "Mean Texture              30.72000    39.28000  \n",
      "Mean Perimeter           166.20000   188.50000  \n",
      "Mean Area               1841.00000  2501.00000  \n",
      "Mean Smoothness            0.13350     0.16340  \n",
      "Mean Compactness           0.27760     0.34540  \n",
      "Mean Concavity             0.35230     0.42680  \n",
      "Mean Concave points        0.16890     0.20120  \n",
      "Mean Symmetry              0.25970     0.30400  \n",
      "Mean Fractal dimension     0.08743     0.09744  \n",
      "\n",
      "Data type: SE\n",
      "                      Count       Mean        Std     Median       Min  \\\n",
      "Radius SE               569   0.405172   0.277069   0.324200  0.111500   \n",
      "Texture SE              569   1.216853   0.551163   1.108000  0.360200   \n",
      "Perimeter SE            569   2.866059   2.020077   2.287000  0.757000   \n",
      "Area SE                 569  40.337079  45.451013  24.530000  6.802000   \n",
      "Smoothness SE           569   0.007041   0.003000   0.006380  0.001713   \n",
      "Compactness SE          569   0.025478   0.017892   0.020450  0.002252   \n",
      "Concavity SE            569   0.031894   0.030160   0.025890  0.000000   \n",
      "Concave points SE       569   0.011796   0.006165   0.010930  0.000000   \n",
      "Symmetry SE             569   0.020542   0.008259   0.018730  0.007882   \n",
      "Fractal dimension SE    569   0.003795   0.002644   0.003187  0.000895   \n",
      "\n",
      "                            1%        25%        50%        75%        99%  \\\n",
      "Radius SE             0.119400   0.232400   0.324200   0.478900    1.29200   \n",
      "Texture SE            0.406400   0.833900   1.108000   1.474000    2.92700   \n",
      "Perimeter SE          0.921900   1.606000   2.287000   3.357000    9.80700   \n",
      "Area SE               8.322000  17.850000  24.530000  45.190000  180.20000   \n",
      "Smoothness SE         0.002887   0.005169   0.006380   0.008146    0.01736   \n",
      "Compactness SE        0.004693   0.013080   0.020450   0.032450    0.09368   \n",
      "Concavity SE          0.000000   0.015090   0.025890   0.042050    0.12780   \n",
      "Concave points SE     0.000000   0.007638   0.010930   0.014710    0.03322   \n",
      "Symmetry SE           0.010540   0.015160   0.018730   0.023480    0.05333   \n",
      "Fractal dimension SE  0.001087   0.002248   0.003187   0.004558    0.01284   \n",
      "\n",
      "                            Max  \n",
      "Radius SE               2.87300  \n",
      "Texture SE              4.88500  \n",
      "Perimeter SE           21.98000  \n",
      "Area SE               542.20000  \n",
      "Smoothness SE           0.03113  \n",
      "Compactness SE          0.13540  \n",
      "Concavity SE            0.39600  \n",
      "Concave points SE       0.05279  \n",
      "Symmetry SE             0.07895  \n",
      "Fractal dimension SE    0.02984  \n",
      "\n",
      "Data type: Worst\n",
      "                         Count        Mean         Std     Median        Min  \\\n",
      "Worst Radius               569   16.269190    4.828993   14.97000    7.93000   \n",
      "Worst Texture              569   25.677223    6.140854   25.41000   12.02000   \n",
      "Worst Perimeter            569  107.261213   33.573002   97.66000   50.41000   \n",
      "Worst Area                 569  880.583128  568.856459  686.50000  185.20000   \n",
      "Worst Smoothness           569    0.132369    0.022812    0.13130    0.07117   \n",
      "Worst Compactness          569    0.254265    0.157198    0.21190    0.02729   \n",
      "Worst Concavity            569    0.272188    0.208441    0.22670    0.00000   \n",
      "Worst Concave points       569    0.114606    0.065675    0.09993    0.00000   \n",
      "Worst Symmetry             569    0.290076    0.061813    0.28220    0.15650   \n",
      "Worst Fractal dimension    569    0.083946    0.018045    0.08004    0.05504   \n",
      "\n",
      "                                1%        25%        50%         75%  \\\n",
      "Worst Radius               9.09200   13.01000   14.97000    18.79000   \n",
      "Worst Texture             14.82000   21.08000   25.41000    29.72000   \n",
      "Worst Perimeter           58.08000   84.11000   97.66000   125.40000   \n",
      "Worst Area               249.80000  515.30000  686.50000  1084.00000   \n",
      "Worst Smoothness           0.08774    0.11660    0.13130     0.14600   \n",
      "Worst Compactness          0.04953    0.14720    0.21190     0.33910   \n",
      "Worst Concavity            0.00000    0.11450    0.22670     0.38290   \n",
      "Worst Concave points       0.00000    0.06493    0.09993     0.16140   \n",
      "Worst Symmetry             0.17120    0.25040    0.28220     0.31790   \n",
      "Worst Fractal dimension    0.05843    0.07146    0.08004     0.09208   \n",
      "\n",
      "                               99%        Max  \n",
      "Worst Radius               30.7900    36.0400  \n",
      "Worst Texture              41.8500    49.5400  \n",
      "Worst Perimeter           211.5000   251.2000  \n",
      "Worst Area               2944.0000  4254.0000  \n",
      "Worst Smoothness            0.1902     0.2226  \n",
      "Worst Compactness           0.7917     1.0580  \n",
      "Worst Concavity             0.9034     1.2520  \n",
      "Worst Concave points        0.2701     0.2910  \n",
      "Worst Symmetry              0.4882     0.6638  \n",
      "Worst Fractal dimension     0.1409     0.2075  \n",
      "\n"
     ]
    }
   ],
   "source": [
    "myDescribe = MyDescribe()\n",
    "columnsTypeList = [\"Mean\", \"SE\", \"Worst\"]\n",
    "for columnsType in columnsTypeList:\n",
    "    describe_list = myDescribe.createDescribeDataFrame(dataset_training, False, False, gaugeColumnList[columnsType])\n",
    "    my_describe_df = pd.DataFrame(describe_list, index=gaugeColumnList[columnsType])\n",
    "    print(\"Data type: \" + str(columnsType))\n",
    "    print(my_describe_df)\n",
    "    print(\"\")\n"
   ]
  },
  {
   "cell_type": "code",
   "execution_count": 5,
   "id": "c670174c",
   "metadata": {},
   "outputs": [],
   "source": [
    "def set_x_axis(axes):\n",
    "    for i in range(0, len(axes)):\n",
    "        axes[i].tick_params(\n",
    "            axis='x',          # changes apply to the x-axis\n",
    "            which='minor',      # both major and minor ticks are affected\n",
    "            bottom=False,      # ticks along the bottom edge are off\n",
    "            top=False,         # ticks along the top edge are off\n",
    "            labelbottom=False) # labels along the bottom edge are off\n",
    "        xlabels = axes[i].get_xticklabels()\n",
    "        for index in range(2, len(xlabels) - 2):\n",
    "            plt.setp(xlabels[index], visible = False)\n"
   ]
  },
  {
   "cell_type": "code",
   "execution_count": 7,
   "id": "225b6d37",
   "metadata": {
    "scrolled": true
   },
   "outputs": [],
   "source": [
    "%matplotlib qt\n",
    "myHistogram = MyHistogram()\n",
    "legends = [\"M\", \"B\"]\n",
    "columnList = gaugeColumnList[\"Mean\"]\n",
    "fig, axes = plt.subplots(math.ceil(len(columnList) / 3), 3, figsize=(25, 100))\n",
    "fig.tight_layout(pad=5.0)\n",
    "axes = axes.flatten()\n",
    "myHistogram.histogram(dataset_training, columnList, axes, legends)\n",
    "title = \"Overview of Cancer mean gauges (Histogram)\"\n",
    "plt.suptitle(title, fontsize=30)\n",
    "plt.subplots_adjust(top=0.85)\n",
    "set_x_axis(axes)\n",
    "plt.show()"
   ]
  },
  {
   "cell_type": "code",
   "execution_count": 8,
   "id": "87e714aa",
   "metadata": {},
   "outputs": [],
   "source": [
    "%matplotlib qt\n",
    "myHistogram = MyHistogram()\n",
    "legends = [\"M\", \"B\"]\n",
    "columnList = gaugeColumnList[\"SE\"]\n",
    "fig, axes = plt.subplots(math.ceil(len(columnList) / 3), 3, figsize=(25, 100))\n",
    "fig.tight_layout(pad=5.0)\n",
    "axes = axes.flatten()\n",
    "myHistogram.histogram(dataset_training, columnList, axes, legends)\n",
    "title = \"Overview of Cancer standard error gauges (Histogram)\"\n",
    "plt.suptitle(title, fontsize=30)\n",
    "plt.subplots_adjust(top=0.85)\n",
    "set_x_axis(axes)\n",
    "plt.show()"
   ]
  },
  {
   "cell_type": "code",
   "execution_count": 9,
   "id": "93dceb86",
   "metadata": {},
   "outputs": [],
   "source": [
    "%matplotlib qt\n",
    "myHistogram = MyHistogram()\n",
    "legends = [\"M\", \"B\"]\n",
    "columnList = gaugeColumnList[\"Worst\"]\n",
    "fig, axes = plt.subplots(math.ceil(len(columnList) / 3), 3, figsize=(25, 100))\n",
    "fig.tight_layout(pad=5.0)\n",
    "axes = axes.flatten()\n",
    "myHistogram.histogram(dataset_training, columnList, axes, legends)\n",
    "title = \"Overview of Cancer worst gauges (Histogram)\"\n",
    "plt.suptitle(title, fontsize=30)\n",
    "plt.subplots_adjust(top=0.85)\n",
    "set_x_axis(axes)\n",
    "plt.show()\n"
   ]
  },
  {
   "cell_type": "code",
   "execution_count": 43,
   "id": "51ac0a36",
   "metadata": {},
   "outputs": [],
   "source": [
    "def create_scatter_matrix(dataFrame, dataFrameColor, title):\n",
    "    axes = pd.plotting.scatter_matrix(dataFrame, alpha=0.2,\n",
    "                                      diagonal=\"kde\", figsize=(25, 100), color=dataFrameColor)\n",
    "    axes = axes.flatten()\n",
    "    for i in range(0, len(axes)):\n",
    "        axes[i].xaxis.label.set_rotation(30)\n",
    "        axes[i].yaxis.label.set_rotation(0)\n",
    "        axes[i].set_xticklabels([])\n",
    "        axes[i].set_yticklabels([])\n",
    "    handles = [plt.plot([],[],color=colorList[i], ls=\"\", marker=\".\", \\\n",
    "                        markersize=12)[0] for i in range(2)]\n",
    "    labels = [\"Malignant\", \"Benign\"]\n",
    "    plt.legend(handles, labels, loc=(1.02,0))\n",
    "    plt.suptitle(title, fontsize=45)\n",
    "    plt.tight_layout()\n",
    "    plt.gcf().subplots_adjust(wspace=0, hspace=0)\n",
    "    plt.show()\n"
   ]
  },
  {
   "cell_type": "code",
   "execution_count": 44,
   "id": "6987e185",
   "metadata": {
    "scrolled": false
   },
   "outputs": [],
   "source": [
    "%matplotlib qt\n",
    "columnList = gaugeColumnList[\"Mean\"]\n",
    "title = \"Overview of Cancer mean gauges (Scatter matrix)\"\n",
    "dataFrame = dataset_training[columnList]\n",
    "dataFrameColor = dataset_training[\"Color\"]\n",
    "create_scatter_matrix(dataFrame, dataFrameColor, title)\n"
   ]
  },
  {
   "cell_type": "code",
   "execution_count": 45,
   "id": "8e1678dc",
   "metadata": {},
   "outputs": [],
   "source": [
    "%matplotlib qt\n",
    "columnList = gaugeColumnList[\"SE\"]\n",
    "title = \"Overview of Cancer standard error gauges (Scatter matrix)\"\n",
    "dataFrame = dataset_training[columnList]\n",
    "dataFrameColor = dataset_training[\"Color\"]\n",
    "create_scatter_matrix(dataFrame, dataFrameColor, title)\n"
   ]
  },
  {
   "cell_type": "code",
   "execution_count": 46,
   "id": "fdf055a9",
   "metadata": {},
   "outputs": [],
   "source": [
    "%matplotlib qt\n",
    "columnList = gaugeColumnList[\"Worst\"]\n",
    "title = \"Overview of Cancer worst gauges (Scatter matrix)\"\n",
    "dataFrame = dataset_training[columnList]\n",
    "dataFrameColor = dataset_training[\"Color\"]\n",
    "create_scatter_matrix(dataFrame, dataFrameColor, title)\n"
   ]
  },
  {
   "cell_type": "code",
   "execution_count": 37,
   "id": "34778080",
   "metadata": {},
   "outputs": [],
   "source": [
    "def create_box_plot(dataFrame, rows, columns, title):\n",
    "    fig, ax = plt.subplots(2,5)\n",
    "    dataFrame.plot(kind='box', subplots=True, ax=ax, sharex=False, sharey=False)\n",
    "    fig.suptitle(title, fontsize=40)\n",
    "    plt.show()\n",
    "    return\n"
   ]
  },
  {
   "cell_type": "code",
   "execution_count": 38,
   "id": "58ef26ba",
   "metadata": {
    "scrolled": true
   },
   "outputs": [],
   "source": [
    "%matplotlib qt\n",
    "columnList = gaugeColumnList[\"Mean\"]\n",
    "columns = math.ceil(np.sqrt(len(columnList)))\n",
    "rows = math.ceil(len(columnList) / columns)\n",
    "title = \"Overview of Cancer mean gauges (Boxplot)\"\n",
    "dataFrame = dataset_training[columnList]\n",
    "create_box_plot(dataFrame, rows, columns, title)\n"
   ]
  },
  {
   "cell_type": "code",
   "execution_count": 39,
   "id": "cbc2a7d8",
   "metadata": {},
   "outputs": [],
   "source": [
    "%matplotlib qt\n",
    "columnList = gaugeColumnList[\"SE\"]\n",
    "columns = math.ceil(np.sqrt(len(columnList)))\n",
    "rows = math.ceil(len(columnList) / columns)\n",
    "title = \"Overview of Cancer standard error gauges (Boxplot)\"\n",
    "dataFrame = dataset_training[columnList]\n",
    "create_box_plot(dataFrame, rows, columns, title)\n"
   ]
  },
  {
   "cell_type": "code",
   "execution_count": 40,
   "id": "53c2201f",
   "metadata": {},
   "outputs": [],
   "source": [
    "%matplotlib qt\n",
    "columnList = gaugeColumnList[\"Worst\"]\n",
    "columns = math.ceil(np.sqrt(len(columnList)))\n",
    "rows = math.ceil(len(columnList) / columns)\n",
    "title = \"Overview of Cancer worst gauges (Boxplot)\"\n",
    "dataFrame = dataset_training[columnList]\n",
    "create_box_plot(dataFrame, rows, columns, title)\n"
   ]
  },
  {
   "cell_type": "code",
   "execution_count": 11,
   "id": "660ac9bf",
   "metadata": {},
   "outputs": [],
   "source": [
    "def create_correlation_plot(dataFrame, columnList, title):\n",
    "    correlations = dataFrame[columnList].corr()\n",
    "    fig = plt.figure()\n",
    "    ax = fig.add_subplot(111)\n",
    "    cax = ax.matshow(correlations, vmin=-1, vmax=1)\n",
    "    fig.colorbar(cax)\n",
    "    ticks = np.arange(0, len(columnList), 1)\n",
    "    fig.suptitle(title, fontsize=30)\n",
    "    ax.set_xticks(ticks)\n",
    "    ax.set_yticks(ticks)\n",
    "    ax.set_xticklabels(columnList, rotation=20)\n",
    "    ax.set_yticklabels(columnList)\n",
    "    plt.show()\n"
   ]
  },
  {
   "cell_type": "code",
   "execution_count": 12,
   "id": "0e66bae7",
   "metadata": {},
   "outputs": [],
   "source": [
    "%matplotlib qt\n",
    "columnList = gaugeColumnList[\"Mean\"]\n",
    "title = \"Overview of Cancer mean gauges (Correlations)\"\n",
    "dataFrame = dataset_training[columnList]\n",
    "create_correlation_plot(dataFrame, columnList, title)\n"
   ]
  },
  {
   "cell_type": "code",
   "execution_count": 13,
   "id": "028ec05f",
   "metadata": {},
   "outputs": [],
   "source": [
    "%matplotlib qt\n",
    "columnList = gaugeColumnList[\"SE\"]\n",
    "title = \"Overview of Cancer standard error gauges (Correlations)\"\n",
    "dataFrame = dataset_training[columnList]\n",
    "create_correlation_plot(dataFrame, columnList, title)\n"
   ]
  },
  {
   "cell_type": "code",
   "execution_count": 14,
   "id": "963b70de",
   "metadata": {},
   "outputs": [],
   "source": [
    "%matplotlib qt\n",
    "columnList = gaugeColumnList[\"Worst\"]\n",
    "title = \"Overview of Cancer worst gauges (Correlations)\"\n",
    "dataFrame = dataset_training[columnList]\n",
    "create_correlation_plot(dataFrame, columnList, title)\n"
   ]
  },
  {
   "cell_type": "code",
   "execution_count": null,
   "id": "8bc77884",
   "metadata": {},
   "outputs": [],
   "source": []
  }
 ],
 "metadata": {
  "kernelspec": {
   "display_name": "Python 3 (ipykernel)",
   "language": "python",
   "name": "python3"
  },
  "language_info": {
   "codemirror_mode": {
    "name": "ipython",
    "version": 3
   },
   "file_extension": ".py",
   "mimetype": "text/x-python",
   "name": "python",
   "nbconvert_exporter": "python",
   "pygments_lexer": "ipython3",
   "version": "3.9.2"
  }
 },
 "nbformat": 4,
 "nbformat_minor": 5
}
