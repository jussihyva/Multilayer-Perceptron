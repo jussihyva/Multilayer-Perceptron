{
 "cells": [
  {
   "cell_type": "code",
   "execution_count": 1,
   "id": "131f85ad",
   "metadata": {
    "scrolled": false
   },
   "outputs": [],
   "source": [
    "import sys\n",
    "sys.path.append(\"../Python\")\n",
    "import pandas as pd\n",
    "import matplotlib.pyplot as plt\n",
    "import PyQt5\n",
    "import math\n",
    "from MyDescribe import MyDescribe\n",
    "from MyHistogram import MyHistogram\n"
   ]
  },
  {
   "cell_type": "code",
   "execution_count": 2,
   "id": "b18d7789",
   "metadata": {
    "scrolled": false
   },
   "outputs": [],
   "source": [
    "# Read dataset\n",
    "gaugeColumnList = {}\n",
    "gaugeColumnList[\"Mean\"] = [\"Mean Radius\",\"Mean Texture\",\"Mean Perimeter\",\"Mean Area\",\"Mean Smoothness\",\"Mean Compactness\",\"Mean Concavity\",\"Mean Concave points\",\"Mean Symmetry\",\"Mean Fractal dimension\"]\n",
    "gaugeColumnList[\"SE\"] = [\"Radius SE\",\"Texture SE\",\"Perimeter SE\",\"Area SE\",\"Smoothness SE\",\"Compactness SE\",\"Concavity SE\",\"Concave points SE\",\"Symmetry SE\",\"Fractal dimension SE\"]\n",
    "gaugeColumnList[\"Worst\"] = [\"Worst Radius\",\"Worst Texture\",\"Worst Perimeter\",\"Worst Area\",\"Worst Smoothness\",\"Worst Compactness\",\"Worst Concavity\",\"Worst Concave points\",\"Worst Symmetry\",\"Worst Fractal dimension\"]\n",
    "columnNames = []\n",
    "columnNames.extend([\"ID number\",\"Diagnosis\"])\n",
    "columnNames.extend(gaugeColumnList[\"Mean\"])\n",
    "columnNames.extend(gaugeColumnList[\"SE\"])\n",
    "columnNames.extend(gaugeColumnList[\"Worst\"])\n",
    "dataset_training = pd.read_csv(\"../Data/data.csv\", header=None, names=columnNames)\n",
    "# print(dataset_training.T)\n"
   ]
  },
  {
   "cell_type": "code",
   "execution_count": 3,
   "id": "bf57eac8",
   "metadata": {},
   "outputs": [],
   "source": [
    "colorList = [\"red\", \"yellow\"]\n",
    "colors = {}\n",
    "colors[\"M\"] = colorList[0]\n",
    "colors[\"B\"] = colorList[1]\n",
    "dataset_training[\"Color\"] = dataset_training.apply(lambda row: colors[row.Diagnosis], axis=1)"
   ]
  },
  {
   "cell_type": "code",
   "execution_count": 12,
   "id": "3b1db818",
   "metadata": {
    "scrolled": true
   },
   "outputs": [
    {
     "name": "stdout",
     "output_type": "stream",
     "text": [
      "        Mean Radius  Mean Texture  Mean Perimeter    Mean Area  \\\n",
      "Count    569.000000    569.000000      569.000000   569.000000   \n",
      "Mean      14.127292     19.289649       91.969033   654.889104   \n",
      "Std        3.520951      4.297255       24.277619   351.604754   \n",
      "Median    13.370000     18.840000       86.240000   551.100000   \n",
      "Min        6.981000      9.710000       43.790000   143.500000   \n",
      "Max       28.110000     39.280000      188.500000  2501.000000   \n",
      "1%         8.219000     10.910000       53.270000   203.900000   \n",
      "25%       11.700000     16.170000       75.170000   420.300000   \n",
      "50%       13.370000     18.840000       86.240000   551.100000   \n",
      "75%       15.780000     21.800000      104.100000   782.700000   \n",
      "99%       24.630000     30.720000      166.200000  1841.000000   \n",
      "\n",
      "        Mean Smoothness  Mean Compactness  Mean Concavity  \\\n",
      "Count        569.000000        569.000000      569.000000   \n",
      "Mean           0.096360          0.104341        0.088799   \n",
      "Std            0.014052          0.052766        0.079650   \n",
      "Median         0.095870          0.092630        0.061540   \n",
      "Min            0.052630          0.019380        0.000000   \n",
      "Max            0.163400          0.345400        0.426800   \n",
      "1%             0.068280          0.032120        0.000000   \n",
      "25%            0.086370          0.064920        0.029560   \n",
      "50%            0.095870          0.092630        0.061540   \n",
      "75%            0.105300          0.130400        0.130700   \n",
      "99%            0.133500          0.277600        0.352300   \n",
      "\n",
      "        Mean Concave points  Mean Symmetry  Mean Fractal dimension  \n",
      "Count            569.000000     569.000000              569.000000  \n",
      "Mean               0.048919       0.181162                0.062798  \n",
      "Std                0.038769       0.027390                0.007054  \n",
      "Median             0.033500       0.179200                0.061540  \n",
      "Min                0.000000       0.106000                0.049960  \n",
      "Max                0.201200       0.304000                0.097440  \n",
      "1%                 0.000000       0.127400                0.050960  \n",
      "25%                0.020310       0.161900                0.057700  \n",
      "50%                0.033500       0.179200                0.061540  \n",
      "75%                0.074000       0.195700                0.066120  \n",
      "99%                0.168900       0.259700                0.087430  \n"
     ]
    }
   ],
   "source": [
    "myDescribe = MyDescribe()\n",
    "describe_list = myDescribe.createDescribeDataFrame(dataset_training, False, False, gaugeColumnList[\"Mean\"])\n",
    "my_describe_df = pd.DataFrame(describe_list, index=gaugeColumnList[\"Mean\"])\n",
    "print(my_describe_df.T)\n",
    "\n"
   ]
  },
  {
   "cell_type": "code",
   "execution_count": 28,
   "id": "2fa0e295",
   "metadata": {},
   "outputs": [],
   "source": [
    "def set_x_axis(axes):\n",
    "    for i in range(0, len(axes)):\n",
    "        axes[i].tick_params(\n",
    "            axis='x',          # changes apply to the x-axis\n",
    "            which='minor',      # both major and minor ticks are affected\n",
    "            bottom=False,      # ticks along the bottom edge are off\n",
    "            top=False,         # ticks along the top edge are off\n",
    "            labelbottom=False) # labels along the bottom edge are off\n",
    "        xlabels = axes[i].get_xticklabels()\n",
    "        for index in range(2, len(xlabels) - 2):\n",
    "            plt.setp(xlabels[index], visible = False)\n"
   ]
  },
  {
   "cell_type": "code",
   "execution_count": 29,
   "id": "01a7f55a",
   "metadata": {
    "scrolled": true
   },
   "outputs": [],
   "source": [
    "%matplotlib qt\n",
    "myHistogram = MyHistogram()\n",
    "legends = [\"M\", \"B\"]\n",
    "columnList = gaugeColumnList[\"Mean\"]\n",
    "fig, axes = plt.subplots(math.ceil(len(columnList) / 3), 3, figsize=(25, 100))\n",
    "fig.tight_layout(pad=5.0)\n",
    "axes = axes.flatten()\n",
    "myHistogram.histogram(dataset_training, columnList, axes, legends)\n",
    "title = \"Overview of Cancer gauges (Histogram)\"\n",
    "plt.suptitle(title, fontsize=30)\n",
    "plt.subplots_adjust(top=0.85)\n",
    "set_x_axis(axes)\n",
    "plt.show()"
   ]
  },
  {
   "cell_type": "code",
   "execution_count": 21,
   "id": "706896ec",
   "metadata": {},
   "outputs": [],
   "source": [
    "%matplotlib qt\n",
    "myHistogram = MyHistogram()\n",
    "legends = [\"M\", \"B\"]\n",
    "columnList = gaugeColumnList[\"SE\"]\n",
    "fig, axes = plt.subplots(math.ceil(len(columnList) / 3), 3, figsize=(25, 100))\n",
    "fig.tight_layout(pad=5.0)\n",
    "axes = axes.flatten()\n",
    "myHistogram.histogram(dataset_training, columnList, axes, legends)\n",
    "title = \"Overview of Cancer gauges (Histogram)\"\n",
    "plt.suptitle(title, fontsize=30)\n",
    "plt.subplots_adjust(top=0.85)\n",
    "set_x_axis(axes)\n",
    "plt.show()"
   ]
  },
  {
   "cell_type": "code",
   "execution_count": 29,
   "id": "7cb0969c",
   "metadata": {},
   "outputs": [],
   "source": [
    "%matplotlib qt\n",
    "myHistogram = MyHistogram()\n",
    "legends = [\"M\", \"B\"]\n",
    "columnList = gaugeColumnList[\"Worst\"]\n",
    "fig, axes = plt.subplots(math.ceil(len(columnList) / 3), 3, figsize=(25, 100))\n",
    "fig.tight_layout(pad=5.0)\n",
    "axes = axes.flatten()\n",
    "myHistogram.histogram(dataset_training, columnList, axes, legends)\n",
    "title = \"Overview of Cancer gauges (Histogram)\"\n",
    "plt.suptitle(title, fontsize=30)\n",
    "plt.subplots_adjust(top=0.85)\n",
    "set_x_axis(axes)\n",
    "plt.show()\n"
   ]
  },
  {
   "cell_type": "code",
   "execution_count": 30,
   "id": "f1bd0821",
   "metadata": {
    "scrolled": false
   },
   "outputs": [],
   "source": [
    "%matplotlib qt\n",
    "columnList = gaugeColumnList[\"Mean\"]\n",
    "axes = pd.plotting.scatter_matrix(dataset_training[columnList], alpha=0.2,\n",
    "                                  diagonal=\"kde\", figsize=(25, 100), color=dataset_training[\"Color\"])\n",
    "axes = axes.flatten()\n",
    "for i in range(0, len(axes)):\n",
    "    axes[i].xaxis.label.set_rotation(30)\n",
    "    axes[i].yaxis.label.set_rotation(0)\n",
    "    axes[i].set_xticklabels([])\n",
    "    axes[i].set_yticklabels([])\n",
    "handles = [plt.plot([],[],color=colorList[i], ls=\"\", marker=\".\", \\\n",
    "                    markersize=12)[0] for i in range(2)]\n",
    "labels = [\"Malignant\", \"Benign\"]\n",
    "plt.legend(handles, labels, loc=(1.02,0))\n",
    "title = \"Overview of Cancer gauges (pair)\"\n",
    "plt.suptitle(title)\n",
    "plt.tight_layout()\n",
    "plt.gcf().subplots_adjust(wspace=0, hspace=0)\n",
    "plt.show()"
   ]
  },
  {
   "cell_type": "code",
   "execution_count": null,
   "id": "785d9299",
   "metadata": {
    "scrolled": true
   },
   "outputs": [],
   "source": []
  }
 ],
 "metadata": {
  "kernelspec": {
   "display_name": "Python 3 (ipykernel)",
   "language": "python",
   "name": "python3"
  },
  "language_info": {
   "codemirror_mode": {
    "name": "ipython",
    "version": 3
   },
   "file_extension": ".py",
   "mimetype": "text/x-python",
   "name": "python",
   "nbconvert_exporter": "python",
   "pygments_lexer": "ipython3",
   "version": "3.9.2"
  }
 },
 "nbformat": 4,
 "nbformat_minor": 5
}
