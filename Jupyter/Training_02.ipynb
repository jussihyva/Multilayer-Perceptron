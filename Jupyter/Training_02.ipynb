{
 "cells": [
  {
   "cell_type": "code",
   "execution_count": 1,
   "id": "47c2c67e",
   "metadata": {},
   "outputs": [],
   "source": [
    "import pandas as pd\n",
    "import numpy as np\n",
    "import time\n"
   ]
  },
  {
   "cell_type": "code",
   "execution_count": 2,
   "id": "54c314aa",
   "metadata": {},
   "outputs": [],
   "source": [
    "# Read dataset\n",
    "gaugeColumnList = {}\n",
    "gaugeColumnList[\"Mean\"] = [\"Mean Radius\",\"Mean Texture\",\"Mean Perimeter\",\"Mean Area\",\"Mean Smoothness\",\"Mean Compactness\",\"Mean Concavity\",\"Mean Concave points\",\"Mean Symmetry\",\"Mean Fractal dimension\"]\n",
    "gaugeColumnList[\"SE\"] = [\"Radius SE\",\"Texture SE\",\"Perimeter SE\",\"Area SE\",\"Smoothness SE\",\"Compactness SE\",\"Concavity SE\",\"Concave points SE\",\"Symmetry SE\",\"Fractal dimension SE\"]\n",
    "gaugeColumnList[\"Worst\"] = [\"Worst Radius\",\"Worst Texture\",\"Worst Perimeter\",\"Worst Area\",\"Worst Smoothness\",\"Worst Compactness\",\"Worst Concavity\",\"Worst Concave points\",\"Worst Symmetry\",\"Worst Fractal dimension\"]\n",
    "gaugeColumnList[\"Result\"] = [\"Diagnosis\"]\n",
    "columnNames = []\n",
    "columnNames.extend([\"ID number\",\"Diagnosis\"])\n",
    "columnNames.extend(gaugeColumnList[\"Mean\"])\n",
    "columnNames.extend(gaugeColumnList[\"SE\"])\n",
    "columnNames.extend(gaugeColumnList[\"Worst\"])\n",
    "featureNames = []\n",
    "featureNames.extend(gaugeColumnList[\"Mean\"])\n",
    "featureNames.extend(gaugeColumnList[\"SE\"])\n",
    "featureNames.extend(gaugeColumnList[\"Worst\"])\n",
    "dataset_training = pd.read_csv(\"../Data/data.csv\", header=None, names=columnNames)\n",
    "# print(dataset_training.T)"
   ]
  },
  {
   "cell_type": "code",
   "execution_count": 3,
   "id": "0b989257",
   "metadata": {},
   "outputs": [],
   "source": [
    "colorList = [\"red\", \"yellow\"]\n",
    "colors = {}\n",
    "colors[\"M\"] = colorList[0]\n",
    "colors[\"B\"] = colorList[1]\n",
    "dataset_training[\"Color\"] = dataset_training.apply(lambda row: colors[row.Diagnosis], axis=1)\n",
    "colors[\"M\"] = 0\n",
    "colors[\"B\"] = 1\n",
    "dataset_training[\"Y1\"] = dataset_training.apply(lambda row: colors[row.Diagnosis], axis=1)\n",
    "colors[\"M\"] = 1\n",
    "colors[\"B\"] = 0\n",
    "dataset_training[\"Y2\"] = dataset_training.apply(lambda row: colors[row.Diagnosis], axis=1)\n",
    "\n",
    "\n"
   ]
  },
  {
   "cell_type": "code",
   "execution_count": null,
   "id": "0f51dd05",
   "metadata": {},
   "outputs": [],
   "source": [
    "\n"
   ]
  },
  {
   "cell_type": "code",
   "execution_count": 4,
   "id": "46cc4dd7",
   "metadata": {},
   "outputs": [],
   "source": [
    " def initialize_parameters_deep(layer_dims):\n",
    "    t = 1000 * time.time() # current time in milliseconds\n",
    "    np.random.seed(int(t) % 2**32)\n",
    "#     np.random.seed(3)\n",
    "    parameters = {}\n",
    "    L = len(layer_dims) # number of layers in the network\n",
    "\n",
    "    for l in range(1, L):\n",
    "        parameters[\"W\" + str(l)] = np.random.randn(layer_dims[l], layer_dims[l - 1])\n",
    "        parameters[\"b\" + str(l)] = np.zeros((layer_dims[l], layer_dims[l - 1]))\n",
    "        parameters[\"b\" + str(l)] = np.zeros((layer_dims[l], 1))\n",
    "    return parameters\n"
   ]
  },
  {
   "cell_type": "code",
   "execution_count": 5,
   "id": "d43054fd",
   "metadata": {},
   "outputs": [],
   "source": [
    "def linear_activation_forward(A_prev, W, b, activation):\n",
    "    (Z, linear_cache) = linear_forward(A_prev, W, b)\n",
    "    if activation == \"sigmoid\":\n",
    "        (A, activation_cache) = sigmoid(Z)\n",
    "    elif activation == \"relu\":\n",
    "        (A, activation_cache) = relu(Z)\n",
    "    cache = (linear_cache, activation_cache)\n",
    "    return A, cache\n"
   ]
  },
  {
   "cell_type": "code",
   "execution_count": 6,
   "id": "d13097b0",
   "metadata": {},
   "outputs": [],
   "source": [
    "def linear_forward(A, W, b):\n",
    "    Z = W.dot(A) + b\n",
    "    cache = (A, W, b)\n",
    "    return Z, cache"
   ]
  },
  {
   "cell_type": "code",
   "execution_count": 7,
   "id": "6e7705e7",
   "metadata": {},
   "outputs": [],
   "source": [
    "def L_model_forward(X, parameters):\n",
    "    caches = []\n",
    "    A = X\n",
    "    L = len(parameters) // 2                  # number of layers in the neural network\n",
    "    for l in range(1, L):\n",
    "        A_prev = A \n",
    "        activation = \"relu\"\n",
    "#         activation = \"sigmoid\"\n",
    "        (A, cache) = linear_activation_forward(A_prev, parameters[\"W\" + str(l)], parameters[\"b\" + str(l)], activation)\n",
    "        caches.append(cache)\n",
    "    activation = \"sigmoid\"\n",
    "    (AL, cache) = linear_activation_forward(A, parameters[\"W\" + str(L)], parameters[\"b\" + str(L)], activation)\n",
    "    caches.append(cache)\n",
    "    return AL, caches\n"
   ]
  },
  {
   "cell_type": "code",
   "execution_count": 8,
   "id": "72b41999",
   "metadata": {},
   "outputs": [],
   "source": [
    "def L_layer_model(X, Y, layers_dims, learning_rate = 0.0075, num_iterations = 3000, print_cost=False):\n",
    "    print(\"Learning rate: {}\".format(learning_rate))\n",
    "    np.random.seed(1)\n",
    "    costs = []                         # keep track of cost\n",
    "    parameters = initialize_parameters_deep(layers_dims)\n",
    "    for i in range(0, num_iterations):\n",
    "        (AL, caches) = L_model_forward(X, parameters)\n",
    "        cost = compute_cost(AL, Y)\n",
    "        grads = L_model_backward(AL, Y, caches)\n",
    "        parameters = update_parameters(parameters, grads, learning_rate)\n",
    "        if print_cost and i % 100 == 0 or i == num_iterations - 1:\n",
    "            print(\"Cost after iteration {}: {}\".format(i, np.squeeze(cost)))\n",
    "        if i % 100 == 0 or i == num_iterations:\n",
    "            costs.append(cost)\n",
    "    return parameters, costs\n"
   ]
  },
  {
   "cell_type": "code",
   "execution_count": 9,
   "id": "5cfbcdd6",
   "metadata": {},
   "outputs": [],
   "source": [
    "def relu(Z):\n",
    "  A = np.maximum(0.0, Z)\n",
    "  return (A, Z)"
   ]
  },
  {
   "cell_type": "code",
   "execution_count": 10,
   "id": "7101e75e",
   "metadata": {},
   "outputs": [],
   "source": [
    "def sigmoid(Z):\n",
    "    EPSILON = 0.0000000000001\n",
    "    A = 1 / (1 + np.exp(-Z) + EPSILON)\n",
    "#     if (s == 1):\n",
    "#         s -= EPSILON;\n",
    "#     elif (s == 0):\n",
    "#         s += EPSILON;\n",
    "    return (A, Z)"
   ]
  },
  {
   "cell_type": "code",
   "execution_count": 11,
   "id": "7082c9b1",
   "metadata": {},
   "outputs": [],
   "source": [
    "def compute_cost(AL, Y):\n",
    "    m = Y.shape[1]\n",
    "    cost = -np.sum(Y * np.log(AL) + (1 - Y) * np.log(1 - AL), axis=1) / m\n",
    "    return cost\n"
   ]
  },
  {
   "cell_type": "code",
   "execution_count": 12,
   "id": "9035f45b",
   "metadata": {},
   "outputs": [],
   "source": [
    "def linear_activation_backward(dA, cache, activation):\n",
    "    linear_cache, activation_cache = cache\n",
    "    if activation == \"relu\":\n",
    "        dZ = relu_backward(dA, activation_cache)\n",
    "    elif activation == \"sigmoid\":\n",
    "        dZ = sigmoid_backward(dA, activation_cache)\n",
    "    (dA_prev, dW, db) = linear_backward(dZ, linear_cache)\n",
    "    return dA_prev, dW, db\n"
   ]
  },
  {
   "cell_type": "code",
   "execution_count": 13,
   "id": "27b2fa80",
   "metadata": {},
   "outputs": [],
   "source": [
    "def L_model_backward(AL, Y, caches):\n",
    "    grads = {}\n",
    "    L = len(caches) # the number of layers\n",
    "    m = AL.shape[1]\n",
    "    Y = Y.reshape(AL.shape) # after this line, Y is the same shape as AL\n",
    "    dAL = - (np.divide(Y, AL) - np.divide((1 - Y), (1 - AL)))\n",
    "    current_cache = caches[L - 1]\n",
    "    activation = \"sigmoid\"\n",
    "    (dA_prev_temp, dW_temp, db_temp) = linear_activation_backward(dAL, current_cache, activation)\n",
    "    grads[\"dA\" + str(L-1)] = dA_prev_temp\n",
    "    grads[\"dW\" + str(L)] = dW_temp\n",
    "    grads[\"db\" + str(L)] = db_temp\n",
    "    for l in reversed(range(L-1)):\n",
    "        current_cache = caches[l]\n",
    "        activation = \"relu\"\n",
    "#         activation = \"sigmoid\"\n",
    "        (dA_prev_temp, dW_temp, db_temp) = linear_activation_backward(grads[\"dA\" + str(l + 1)], current_cache, activation)\n",
    "        grads[\"dA\" + str(l)] = dA_prev_temp\n",
    "        grads[\"dW\" + str(l + 1)] = dW_temp\n",
    "        grads[\"db\" + str(l + 1)] = db_temp\n",
    "    return grads\n"
   ]
  },
  {
   "cell_type": "code",
   "execution_count": 14,
   "id": "8ea26a6f",
   "metadata": {},
   "outputs": [],
   "source": [
    "def sigmoid_backward(dA, cache):\n",
    "    Z = cache \n",
    "    s = 1/(1+np.exp(-Z))\n",
    "    dZ = dA * s * (1-s)\n",
    "    return dZ"
   ]
  },
  {
   "cell_type": "code",
   "execution_count": 15,
   "id": "76402586",
   "metadata": {},
   "outputs": [],
   "source": [
    "def linear_backward(dZ, cache):\n",
    "    A_prev, W, b = cache\n",
    "    m = A_prev.shape[1]\n",
    "    dW = dZ.dot(A_prev.T) / m\n",
    "    db = np.sum(dZ, axis=1, keepdims=True) / m\n",
    "    dA_prev = W.T.dot(dZ)\n",
    "    return dA_prev, dW, db\n"
   ]
  },
  {
   "cell_type": "code",
   "execution_count": 16,
   "id": "219178c7",
   "metadata": {},
   "outputs": [],
   "source": [
    "def relu_backward(dA, cache):\n",
    "    Z = cache\n",
    "    dZ = np.array(dA, copy=True)\n",
    "    dZ[Z <= 0] = 0\n",
    "    return dZ"
   ]
  },
  {
   "cell_type": "code",
   "execution_count": 17,
   "id": "e26d6928",
   "metadata": {},
   "outputs": [],
   "source": [
    "def update_parameters(params, grads, learning_rate):\n",
    "    parameters = params.copy()\n",
    "    L = len(parameters) // 2 # number of layers in the neural network\n",
    "    for l in range(L):\n",
    "        parameters[\"W\" + str(l+1)] = params[\"W\" + str(l + 1)] - learning_rate * grads[\"dW\" + str(l + 1)]\n",
    "        parameters[\"b\" + str(l+1)] = params[\"b\" + str(l + 1)] - learning_rate * grads[\"db\" + str(l + 1)]\n",
    "    return parameters\n"
   ]
  },
  {
   "cell_type": "code",
   "execution_count": 18,
   "id": "a55da643",
   "metadata": {},
   "outputs": [],
   "source": [
    "def normalizeData(data):\n",
    "    return (data - np.min(data, axis=1, keepdims=True)) / (np.max(data, axis=1, keepdims=True) - np.min(data, axis=1, keepdims=True))\n"
   ]
  },
  {
   "cell_type": "code",
   "execution_count": 19,
   "id": "ea0286ef",
   "metadata": {},
   "outputs": [],
   "source": [
    "# n_x = len(gaugeColumnList[\"Mean\"])\n",
    "n_x = len(featureNames)\n",
    "n_h = 3\n",
    "n_y = 2\n",
    "# layers_dims = (n_x, n_h, n_h, n_y)\n",
    "layers_dims = (n_x, n_h, n_y)\n",
    "\n"
   ]
  },
  {
   "cell_type": "code",
   "execution_count": 20,
   "id": "36718c01",
   "metadata": {},
   "outputs": [
    {
     "name": "stdout",
     "output_type": "stream",
     "text": [
      "Learning rate: 0.4\n",
      "Cost after iteration 1: [0.78077816 0.64514921]\n",
      "Cost after first iteration: [0.85549294 0.65223078]\n"
     ]
    }
   ],
   "source": [
    "train_x = normalizeData(dataset_training[gaugeColumnList[\"Mean\"]].T.to_numpy())\n",
    "train_x = normalizeData(dataset_training[featureNames].T.to_numpy())\n",
    "\n",
    "# train_x = dataset_training[gaugeColumnList[\"Mean\"]].T.to_numpy()\n",
    "train_y = dataset_training[[\"Y1\", \"Y2\"]].T.to_numpy()\n",
    "learning_rate = 0.4\n",
    "parameters, costs = L_layer_model(train_x, train_y, layers_dims, learning_rate, num_iterations = 2, print_cost = False)\n",
    "print(\"Cost after first iteration: \" + str(costs[0]))\n"
   ]
  },
  {
   "cell_type": "code",
   "execution_count": 21,
   "id": "1e520b61",
   "metadata": {},
   "outputs": [
    {
     "name": "stdout",
     "output_type": "stream",
     "text": [
      "Learning rate: 0.06\n",
      "Cost after iteration 0: [0.68582225 0.98660589]\n",
      "Cost after iteration 100: [0.36404013 0.43867208]\n",
      "Cost after iteration 200: [0.24036346 0.26236115]\n",
      "Cost after iteration 300: [0.18830998 0.19731351]\n",
      "Cost after iteration 400: [0.15978211 0.16457645]\n",
      "Cost after iteration 500: [0.14092784 0.14389238]\n",
      "Cost after iteration 600: [0.12733224 0.12932689]\n",
      "Cost after iteration 700: [0.11707339 0.11848512]\n",
      "Cost after iteration 800: [0.10912265 0.11015568]\n",
      "Cost after iteration 900: [0.10281953 0.10359394]\n",
      "Cost after iteration 999: [0.09774635 0.0983399 ]\n"
     ]
    }
   ],
   "source": [
    "learning_rate = 0.06\n",
    "parameters, costs = L_layer_model(train_x, train_y, layers_dims, learning_rate, num_iterations = 1000, print_cost = True)\n"
   ]
  },
  {
   "cell_type": "code",
   "execution_count": 22,
   "id": "67317676",
   "metadata": {},
   "outputs": [
    {
     "name": "stdout",
     "output_type": "stream",
     "text": [
      "[0.09769987 0.09829188]\n",
      "554/569\n",
      "Accuracy: 0.9736379613356766\n"
     ]
    }
   ],
   "source": [
    "(AL, caches) = L_model_forward(train_x, parameters)\n",
    "cost = compute_cost(AL, train_y)\n",
    "print(cost)\n",
    "N = AL.shape[1]\n",
    "argmax = np.argmax(AL, axis=0)\n",
    "true_values = (train_y[1] == argmax).sum()\n",
    "accuracy = true_values / N\n",
    "print(\"{}/{}\".format(true_values, N))\n",
    "print(\"Accuracy: {}\".format(accuracy))\n"
   ]
  },
  {
   "cell_type": "code",
   "execution_count": null,
   "id": "bdf332c2",
   "metadata": {},
   "outputs": [],
   "source": []
  }
 ],
 "metadata": {
  "kernelspec": {
   "display_name": "Python 3",
   "language": "python",
   "name": "python3"
  },
  "language_info": {
   "codemirror_mode": {
    "name": "ipython",
    "version": 3
   },
   "file_extension": ".py",
   "mimetype": "text/x-python",
   "name": "python",
   "nbconvert_exporter": "python",
   "pygments_lexer": "ipython3",
   "version": "3.9.2"
  }
 },
 "nbformat": 4,
 "nbformat_minor": 5
}
