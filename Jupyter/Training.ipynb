{
 "cells": [
  {
   "cell_type": "code",
   "execution_count": 7,
   "id": "8866eccd",
   "metadata": {
    "scrolled": false
   },
   "outputs": [],
   "source": [
    "import sys\n",
    "sys.path.append(\"../Python\")\n",
    "import copy\n",
    "import pandas as pd\n",
    "import numpy as np\n",
    "import matplotlib.pyplot as plt\n",
    "import PyQt5\n",
    "import math\n",
    "from MyDescribe import MyDescribe\n",
    "from MyHistogram import MyHistogram\n"
   ]
  },
  {
   "cell_type": "code",
   "execution_count": 54,
   "id": "0fa191ff",
   "metadata": {
    "scrolled": false
   },
   "outputs": [],
   "source": [
    "# Read dataset\n",
    "gaugeColumnList = {}\n",
    "gaugeColumnList[\"Mean\"] = [\"Mean Radius\",\"Mean Texture\",\"Mean Perimeter\",\"Mean Area\",\"Mean Smoothness\",\"Mean Compactness\",\"Mean Concavity\",\"Mean Concave points\",\"Mean Symmetry\",\"Mean Fractal dimension\"]\n",
    "gaugeColumnList[\"SE\"] = [\"Radius SE\",\"Texture SE\",\"Perimeter SE\",\"Area SE\",\"Smoothness SE\",\"Compactness SE\",\"Concavity SE\",\"Concave points SE\",\"Symmetry SE\",\"Fractal dimension SE\"]\n",
    "gaugeColumnList[\"Worst\"] = [\"Worst Radius\",\"Worst Texture\",\"Worst Perimeter\",\"Worst Area\",\"Worst Smoothness\",\"Worst Compactness\",\"Worst Concavity\",\"Worst Concave points\",\"Worst Symmetry\",\"Worst Fractal dimension\"]\n",
    "gaugeColumnList[\"Result\"] = [\"Diagnosis\"]\n",
    "columnNames = []\n",
    "columnNames.extend([\"ID number\",\"Diagnosis\"])\n",
    "columnNames.extend(gaugeColumnList[\"Mean\"])\n",
    "columnNames.extend(gaugeColumnList[\"SE\"])\n",
    "columnNames.extend(gaugeColumnList[\"Worst\"])\n",
    "featureNames = []\n",
    "featureNames.extend(gaugeColumnList[\"Mean\"])\n",
    "featureNames.extend(gaugeColumnList[\"SE\"])\n",
    "featureNames.extend(gaugeColumnList[\"Worst\"])\n",
    "dataset_training = pd.read_csv(\"../Data/data.csv\", header=None, names=columnNames)\n",
    "# print(dataset_training.T)\n"
   ]
  },
  {
   "cell_type": "code",
   "execution_count": 9,
   "id": "c01b04d6",
   "metadata": {},
   "outputs": [],
   "source": [
    "colorList = [\"red\", \"yellow\"]\n",
    "colors = {}\n",
    "colors[\"M\"] = colorList[0]\n",
    "colors[\"B\"] = colorList[1]\n",
    "dataset_training[\"Color\"] = dataset_training.apply(lambda row: colors[row.Diagnosis], axis=1)"
   ]
  },
  {
   "cell_type": "code",
   "execution_count": 84,
   "id": "00d527d8",
   "metadata": {},
   "outputs": [],
   "source": [
    "def sigmoid(z):\n",
    "    EPSILON = 0.0000001\n",
    "    s = 1 / (1 + np.exp(-z) + EPSILON)\n",
    "#     if (s == 1):\n",
    "#         s -= EPSILON;\n",
    "#     elif (s == 0):\n",
    "#         s += EPSILON;\n",
    "    return s"
   ]
  },
  {
   "cell_type": "code",
   "execution_count": 85,
   "id": "d2f9c1c5",
   "metadata": {},
   "outputs": [],
   "source": [
    "def initialize_with_zeros(dim):\n",
    "    w = np.zeros((dim,1), float)\n",
    "    b = float(0)\n",
    "    return w, b"
   ]
  },
  {
   "cell_type": "code",
   "execution_count": 86,
   "id": "2b688460",
   "metadata": {},
   "outputs": [],
   "source": [
    "def propagate(w, b, X, Y):\n",
    "    m = X.shape[1]\n",
    "    Y_hat = sigmoid(w.T.dot(X) + b)\n",
    "    cost = -1/m * np.sum(Y * np.log(Y_hat) + (1 - Y) * np.log(1 - Y_hat))\n",
    "    dw = 1/m * X.dot((Y_hat - Y).T)\n",
    "    db = 1/m * np.sum(Y_hat - Y)\n",
    "    grads = {\"dw\": dw,\n",
    "             \"db\": db}\n",
    "    return grads, cost"
   ]
  },
  {
   "cell_type": "code",
   "execution_count": 109,
   "id": "76d017a0",
   "metadata": {},
   "outputs": [],
   "source": [
    "def optimize(w, b, X, Y, num_iterations=100, learning_rate=0.009, print_cost=False):\n",
    "    w = copy.deepcopy(w)\n",
    "    b = copy.deepcopy(b)\n",
    "    costs = []\n",
    "    for i in range(num_iterations):\n",
    "        grads, cost = propagate(w, b, X, Y)\n",
    "        dw = grads[\"dw\"]\n",
    "        db = grads[\"db\"]\n",
    "        w -= learning_rate * dw\n",
    "        b -= learning_rate * db\n",
    "        if i % 5000 == 0:\n",
    "            costs.append(cost)\n",
    "            if print_cost:\n",
    "                print (\"Cost after iteration %i: %f\" %(i, cost))\n",
    "    params = {\"w\": w,\n",
    "              \"b\": b}\n",
    "    grads = {\"dw\": dw,\n",
    "             \"db\": db}\n",
    "    return params, grads, costs"
   ]
  },
  {
   "cell_type": "code",
   "execution_count": 110,
   "id": "7dbafa87",
   "metadata": {},
   "outputs": [],
   "source": [
    "def predict(w, b, X):\n",
    "    m = X.shape[1]\n",
    "    Y_prediction = np.zeros((1, m))\n",
    "    w = w.reshape(X.shape[0], 1)\n",
    "    A = sigmoid(w.T.dot(X) + b)\n",
    "    for i in range(A.shape[1]):\n",
    "        if A[0, i] > 0.5 :\n",
    "            Y_prediction[0,i] = 1\n",
    "        else:\n",
    "            Y_prediction[0,i] = 0\n",
    "    return Y_prediction"
   ]
  },
  {
   "cell_type": "code",
   "execution_count": 111,
   "id": "de5c2923",
   "metadata": {},
   "outputs": [],
   "source": [
    "def model(X_train, Y_train, X_test, Y_test, num_iterations=2000, learning_rate=0.5, print_cost=False):\n",
    "    (w, b) = initialize_with_zeros(X_train.shape[0])\n",
    "    (params, grads, costs) = optimize(w, b, X_train, Y_train, num_iterations, learning_rate, print_cost)\n",
    "    w = params[\"w\"]\n",
    "    b = params[\"b\"]\n",
    "    Y_prediction_test = predict(w, b, X_test)\n",
    "    Y_prediction_train = predict(w, b, X_train)\n",
    "    if print_cost:\n",
    "        print(\"train accuracy: {} %\".format(100 - np.mean(np.abs(Y_prediction_train - Y_train)) * 100))\n",
    "        print(\"test accuracy: {} %\".format(100 - np.mean(np.abs(Y_prediction_test - Y_test)) * 100))\n",
    "    d = {\"costs\": costs,\n",
    "         \"Y_prediction_test\": Y_prediction_test, \n",
    "         \"Y_prediction_train\" : Y_prediction_train, \n",
    "         \"w\" : w, \n",
    "         \"b\" : b,\n",
    "         \"learning_rate\" : learning_rate,\n",
    "         \"num_iterations\": num_iterations}\n",
    "    return d"
   ]
  },
  {
   "cell_type": "code",
   "execution_count": 112,
   "id": "49160ff2",
   "metadata": {},
   "outputs": [],
   "source": [
    "def normalizeData(data):\n",
    "    return (data - np.min(data, axis=0)) / (np.max(data, axis=0) - np.min(data, axis=0))"
   ]
  },
  {
   "cell_type": "code",
   "execution_count": 113,
   "id": "10bdd5b0",
   "metadata": {},
   "outputs": [],
   "source": [
    "x = dataset_training[featureNames].to_numpy()\n",
    "result = dataset_training[gaugeColumnList[\"Result\"]].to_numpy()\n",
    "y = np.where((result == \"M\"),1,0)"
   ]
  },
  {
   "cell_type": "code",
   "execution_count": 119,
   "id": "94bebd29",
   "metadata": {},
   "outputs": [
    {
     "name": "stdout",
     "output_type": "stream",
     "text": [
      "(569, 30)\n",
      "(569, 1)\n"
     ]
    }
   ],
   "source": [
    "normalized = normalizeData(x)\n",
    "print(normalized.shape)\n",
    "print(y.shape)"
   ]
  },
  {
   "cell_type": "code",
   "execution_count": 117,
   "id": "4f5d0650",
   "metadata": {},
   "outputs": [
    {
     "name": "stdout",
     "output_type": "stream",
     "text": [
      "Cost after iteration 0: 0.693147\n",
      "Cost after iteration 5000: 0.066001\n",
      "Cost after iteration 10000: 0.057705\n",
      "Cost after iteration 15000: 0.053952\n",
      "Cost after iteration 20000: 0.051733\n",
      "Cost after iteration 25000: 0.050225\n",
      "Cost after iteration 30000: 0.049105\n",
      "Cost after iteration 35000: 0.048221\n",
      "Cost after iteration 40000: 0.047494\n",
      "Cost after iteration 45000: 0.046878\n",
      "Cost after iteration 50000: 0.046345\n",
      "Cost after iteration 55000: 0.045874\n",
      "Cost after iteration 60000: 0.045453\n",
      "Cost after iteration 65000: 0.045072\n",
      "Cost after iteration 70000: 0.044726\n",
      "Cost after iteration 75000: 0.044407\n",
      "Cost after iteration 80000: 0.044113\n",
      "Cost after iteration 85000: 0.043839\n",
      "Cost after iteration 90000: 0.043584\n",
      "Cost after iteration 95000: 0.043344\n",
      "train accuracy: 98.94551845342707 %\n",
      "test accuracy: 98.94551845342707 %\n"
     ]
    }
   ],
   "source": [
    "logistic_regression_model = model(normalized.T, y.T, normalized.T, y.T, num_iterations=100000, learning_rate=1, print_cost=True)"
   ]
  },
  {
   "cell_type": "code",
   "execution_count": null,
   "id": "52b672f0",
   "metadata": {},
   "outputs": [],
   "source": []
  }
 ],
 "metadata": {
  "kernelspec": {
   "display_name": "Python 3",
   "language": "python",
   "name": "python3"
  },
  "language_info": {
   "codemirror_mode": {
    "name": "ipython",
    "version": 3
   },
   "file_extension": ".py",
   "mimetype": "text/x-python",
   "name": "python",
   "nbconvert_exporter": "python",
   "pygments_lexer": "ipython3",
   "version": "3.9.2"
  }
 },
 "nbformat": 4,
 "nbformat_minor": 5
}
